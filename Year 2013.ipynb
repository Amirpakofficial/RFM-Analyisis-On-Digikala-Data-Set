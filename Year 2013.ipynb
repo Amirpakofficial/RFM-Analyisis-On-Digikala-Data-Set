{
 "cells": [
  {
   "cell_type": "code",
   "execution_count": 1,
   "id": "90f976f3",
   "metadata": {},
   "outputs": [],
   "source": [
    "import numpy as np\n",
    "import pandas as pd\n",
    "import datetime as dt\n",
    "import matplotlib.pyplot as plt\n",
    "from sklearn.cluster import KMeans\n",
    "import seaborn as sns\n"
   ]
  },
  {
   "cell_type": "code",
   "execution_count": 2,
   "id": "06a1cf24",
   "metadata": {},
   "outputs": [
    {
     "data": {
      "text/html": [
       "<div>\n",
       "<style scoped>\n",
       "    .dataframe tbody tr th:only-of-type {\n",
       "        vertical-align: middle;\n",
       "    }\n",
       "\n",
       "    .dataframe tbody tr th {\n",
       "        vertical-align: top;\n",
       "    }\n",
       "\n",
       "    .dataframe thead th {\n",
       "        text-align: right;\n",
       "    }\n",
       "</style>\n",
       "<table border=\"1\" class=\"dataframe\">\n",
       "  <thead>\n",
       "    <tr style=\"text-align: right;\">\n",
       "      <th></th>\n",
       "      <th>ID_Order</th>\n",
       "      <th>ID_Customer</th>\n",
       "      <th>ID_Item</th>\n",
       "      <th>DateTime_CartFinalize</th>\n",
       "      <th>Amount_Gross_Order</th>\n",
       "      <th>city_name_fa</th>\n",
       "      <th>Quantity_item</th>\n",
       "    </tr>\n",
       "  </thead>\n",
       "  <tbody>\n",
       "    <tr>\n",
       "      <th>0</th>\n",
       "      <td>2714054</td>\n",
       "      <td>469662</td>\n",
       "      <td>21386</td>\n",
       "      <td>2015-10-15 08:50:56.000</td>\n",
       "      <td>597982.0</td>\n",
       "      <td>محمود آباد</td>\n",
       "      <td>1.0</td>\n",
       "    </tr>\n",
       "    <tr>\n",
       "      <th>1</th>\n",
       "      <td>11104039</td>\n",
       "      <td>3063877</td>\n",
       "      <td>248497</td>\n",
       "      <td>2018-02-11 00:29:26.000</td>\n",
       "      <td>980000.0</td>\n",
       "      <td>خرمدره</td>\n",
       "      <td>1.0</td>\n",
       "    </tr>\n",
       "    <tr>\n",
       "      <th>2</th>\n",
       "      <td>4228130</td>\n",
       "      <td>3184893</td>\n",
       "      <td>50144</td>\n",
       "      <td>2016-06-14 00:30:08.000</td>\n",
       "      <td>229358.0</td>\n",
       "      <td>قرچک</td>\n",
       "      <td>1.0</td>\n",
       "    </tr>\n",
       "    <tr>\n",
       "      <th>3</th>\n",
       "      <td>22225624</td>\n",
       "      <td>6888562</td>\n",
       "      <td>70208</td>\n",
       "      <td>2018-09-03 14:37:19.000</td>\n",
       "      <td>16514.0</td>\n",
       "      <td>قم</td>\n",
       "      <td>1.0</td>\n",
       "    </tr>\n",
       "    <tr>\n",
       "      <th>4</th>\n",
       "      <td>4068771</td>\n",
       "      <td>2533490</td>\n",
       "      <td>67627</td>\n",
       "      <td>2016-05-21 11:51:02.000</td>\n",
       "      <td>133028.0</td>\n",
       "      <td>تهران</td>\n",
       "      <td>1.0</td>\n",
       "    </tr>\n",
       "  </tbody>\n",
       "</table>\n",
       "</div>"
      ],
      "text/plain": [
       "   ID_Order  ID_Customer  ID_Item    DateTime_CartFinalize  \\\n",
       "0   2714054       469662    21386  2015-10-15 08:50:56.000   \n",
       "1  11104039      3063877   248497  2018-02-11 00:29:26.000   \n",
       "2   4228130      3184893    50144  2016-06-14 00:30:08.000   \n",
       "3  22225624      6888562    70208  2018-09-03 14:37:19.000   \n",
       "4   4068771      2533490    67627  2016-05-21 11:51:02.000   \n",
       "\n",
       "   Amount_Gross_Order city_name_fa  Quantity_item  \n",
       "0            597982.0   محمود آباد            1.0  \n",
       "1            980000.0       خرمدره            1.0  \n",
       "2            229358.0         قرچک            1.0  \n",
       "3             16514.0           قم            1.0  \n",
       "4            133028.0        تهران            1.0  "
      ]
     },
     "execution_count": 2,
     "metadata": {},
     "output_type": "execute_result"
    }
   ],
   "source": [
    "data = pd.read_csv('orders.csv')\n",
    "data.head()"
   ]
  },
  {
   "cell_type": "code",
   "execution_count": 3,
   "id": "714550fe",
   "metadata": {},
   "outputs": [],
   "source": [
    "data['DayTime_CartFinalize'] = pd.to_datetime(data['DateTime_CartFinalize'], format='%Y-%m-%d')\n"
   ]
  },
  {
   "cell_type": "code",
   "execution_count": 4,
   "id": "39c79a33",
   "metadata": {},
   "outputs": [],
   "source": [
    "data = data.loc[(data['DayTime_CartFinalize'] < '2013-12-30')]"
   ]
  },
  {
   "cell_type": "code",
   "execution_count": 5,
   "id": "95b1b09d",
   "metadata": {},
   "outputs": [
    {
     "data": {
      "text/html": [
       "<div>\n",
       "<style scoped>\n",
       "    .dataframe tbody tr th:only-of-type {\n",
       "        vertical-align: middle;\n",
       "    }\n",
       "\n",
       "    .dataframe tbody tr th {\n",
       "        vertical-align: top;\n",
       "    }\n",
       "\n",
       "    .dataframe thead th {\n",
       "        text-align: right;\n",
       "    }\n",
       "</style>\n",
       "<table border=\"1\" class=\"dataframe\">\n",
       "  <thead>\n",
       "    <tr style=\"text-align: right;\">\n",
       "      <th></th>\n",
       "      <th>ID_Order</th>\n",
       "      <th>ID_Customer</th>\n",
       "      <th>ID_Item</th>\n",
       "      <th>DateTime_CartFinalize</th>\n",
       "      <th>Amount_Gross_Order</th>\n",
       "      <th>city_name_fa</th>\n",
       "      <th>Quantity_item</th>\n",
       "      <th>DayTime_CartFinalize</th>\n",
       "    </tr>\n",
       "  </thead>\n",
       "  <tbody>\n",
       "    <tr>\n",
       "      <th>323</th>\n",
       "      <td>1048511</td>\n",
       "      <td>634926</td>\n",
       "      <td>7307</td>\n",
       "      <td>2013-12-01 23:51:00.000</td>\n",
       "      <td>16785283.0</td>\n",
       "      <td>تهران</td>\n",
       "      <td>1.0</td>\n",
       "      <td>2013-12-01 23:51:00</td>\n",
       "    </tr>\n",
       "    <tr>\n",
       "      <th>731</th>\n",
       "      <td>1025391</td>\n",
       "      <td>639515</td>\n",
       "      <td>4932</td>\n",
       "      <td>2013-11-03 13:23:00.000</td>\n",
       "      <td>75472.0</td>\n",
       "      <td>زرند</td>\n",
       "      <td>1.0</td>\n",
       "      <td>2013-11-03 13:23:00</td>\n",
       "    </tr>\n",
       "    <tr>\n",
       "      <th>2085</th>\n",
       "      <td>1071982</td>\n",
       "      <td>786577</td>\n",
       "      <td>10522</td>\n",
       "      <td>2013-12-28 10:24:00.000</td>\n",
       "      <td>1877358.0</td>\n",
       "      <td>تهران</td>\n",
       "      <td>1.0</td>\n",
       "      <td>2013-12-28 10:24:00</td>\n",
       "    </tr>\n",
       "    <tr>\n",
       "      <th>3014</th>\n",
       "      <td>1035624</td>\n",
       "      <td>583048</td>\n",
       "      <td>7534</td>\n",
       "      <td>2013-11-17 16:50:00.000</td>\n",
       "      <td>1132642.0</td>\n",
       "      <td>تهران</td>\n",
       "      <td>1.0</td>\n",
       "      <td>2013-11-17 16:50:00</td>\n",
       "    </tr>\n",
       "    <tr>\n",
       "      <th>4495</th>\n",
       "      <td>1022977</td>\n",
       "      <td>670149</td>\n",
       "      <td>3566</td>\n",
       "      <td>2013-10-30 20:48:00.000</td>\n",
       "      <td>2161509.0</td>\n",
       "      <td>رودسر</td>\n",
       "      <td>1.0</td>\n",
       "      <td>2013-10-30 20:48:00</td>\n",
       "    </tr>\n",
       "  </tbody>\n",
       "</table>\n",
       "</div>"
      ],
      "text/plain": [
       "      ID_Order  ID_Customer  ID_Item    DateTime_CartFinalize  \\\n",
       "323    1048511       634926     7307  2013-12-01 23:51:00.000   \n",
       "731    1025391       639515     4932  2013-11-03 13:23:00.000   \n",
       "2085   1071982       786577    10522  2013-12-28 10:24:00.000   \n",
       "3014   1035624       583048     7534  2013-11-17 16:50:00.000   \n",
       "4495   1022977       670149     3566  2013-10-30 20:48:00.000   \n",
       "\n",
       "      Amount_Gross_Order city_name_fa  Quantity_item DayTime_CartFinalize  \n",
       "323           16785283.0        تهران            1.0  2013-12-01 23:51:00  \n",
       "731              75472.0         زرند            1.0  2013-11-03 13:23:00  \n",
       "2085           1877358.0        تهران            1.0  2013-12-28 10:24:00  \n",
       "3014           1132642.0        تهران            1.0  2013-11-17 16:50:00  \n",
       "4495           2161509.0        رودسر            1.0  2013-10-30 20:48:00  "
      ]
     },
     "execution_count": 5,
     "metadata": {},
     "output_type": "execute_result"
    }
   ],
   "source": [
    "data.head()"
   ]
  },
  {
   "cell_type": "code",
   "execution_count": 6,
   "id": "d7983bf6",
   "metadata": {},
   "outputs": [
    {
     "data": {
      "text/plain": [
       "(276, 8)"
      ]
     },
     "execution_count": 6,
     "metadata": {},
     "output_type": "execute_result"
    }
   ],
   "source": [
    "data.shape"
   ]
  },
  {
   "cell_type": "code",
   "execution_count": 60,
   "id": "9a8ee523",
   "metadata": {},
   "outputs": [
    {
     "data": {
      "text/plain": [
       "Timestamp('2013-12-29 12:12:00')"
      ]
     },
     "execution_count": 60,
     "metadata": {},
     "output_type": "execute_result"
    }
   ],
   "source": [
    "LastDay = max(data['DayTime_CartFinalize'])\n",
    "LastDay"
   ]
  },
  {
   "cell_type": "code",
   "execution_count": 61,
   "id": "5ff45654",
   "metadata": {},
   "outputs": [
    {
     "data": {
      "text/plain": [
       "Timestamp('2013-09-27 12:03:00')"
      ]
     },
     "execution_count": 61,
     "metadata": {},
     "output_type": "execute_result"
    }
   ],
   "source": [
    "min(data['DayTime_CartFinalize'])"
   ]
  },
  {
   "cell_type": "code",
   "execution_count": null,
   "id": "5c31c403",
   "metadata": {},
   "outputs": [],
   "source": []
  },
  {
   "cell_type": "code",
   "execution_count": 62,
   "id": "a88abb7c",
   "metadata": {},
   "outputs": [
    {
     "data": {
      "text/html": [
       "<div>\n",
       "<style scoped>\n",
       "    .dataframe tbody tr th:only-of-type {\n",
       "        vertical-align: middle;\n",
       "    }\n",
       "\n",
       "    .dataframe tbody tr th {\n",
       "        vertical-align: top;\n",
       "    }\n",
       "\n",
       "    .dataframe thead th {\n",
       "        text-align: right;\n",
       "    }\n",
       "</style>\n",
       "<table border=\"1\" class=\"dataframe\">\n",
       "  <thead>\n",
       "    <tr style=\"text-align: right;\">\n",
       "      <th></th>\n",
       "      <th>ID_Customer</th>\n",
       "      <th>DayTime_CartFinalize</th>\n",
       "    </tr>\n",
       "  </thead>\n",
       "  <tbody>\n",
       "    <tr>\n",
       "      <th>0</th>\n",
       "      <td>467361</td>\n",
       "      <td>6</td>\n",
       "    </tr>\n",
       "    <tr>\n",
       "      <th>1</th>\n",
       "      <td>468800</td>\n",
       "      <td>48</td>\n",
       "    </tr>\n",
       "    <tr>\n",
       "      <th>2</th>\n",
       "      <td>469481</td>\n",
       "      <td>6</td>\n",
       "    </tr>\n",
       "    <tr>\n",
       "      <th>3</th>\n",
       "      <td>469680</td>\n",
       "      <td>67</td>\n",
       "    </tr>\n",
       "    <tr>\n",
       "      <th>4</th>\n",
       "      <td>470250</td>\n",
       "      <td>92</td>\n",
       "    </tr>\n",
       "  </tbody>\n",
       "</table>\n",
       "</div>"
      ],
      "text/plain": [
       "   ID_Customer  DayTime_CartFinalize\n",
       "0       467361                     6\n",
       "1       468800                    48\n",
       "2       469481                     6\n",
       "3       469680                    67\n",
       "4       470250                    92"
      ]
     },
     "execution_count": 62,
     "metadata": {},
     "output_type": "execute_result"
    }
   ],
   "source": [
    "Recency = data.groupby('ID_Customer')['DayTime_CartFinalize'].apply( lambda x: (LastDay - x.max()).days)\n",
    "Recency = Recency.reset_index()\n",
    "Recency.head()"
   ]
  },
  {
   "cell_type": "code",
   "execution_count": 63,
   "id": "33bc6f6b",
   "metadata": {},
   "outputs": [
    {
     "data": {
      "text/html": [
       "<div>\n",
       "<style scoped>\n",
       "    .dataframe tbody tr th:only-of-type {\n",
       "        vertical-align: middle;\n",
       "    }\n",
       "\n",
       "    .dataframe tbody tr th {\n",
       "        vertical-align: top;\n",
       "    }\n",
       "\n",
       "    .dataframe thead th {\n",
       "        text-align: right;\n",
       "    }\n",
       "</style>\n",
       "<table border=\"1\" class=\"dataframe\">\n",
       "  <thead>\n",
       "    <tr style=\"text-align: right;\">\n",
       "      <th></th>\n",
       "      <th>ID_Customer</th>\n",
       "      <th>ID_Order</th>\n",
       "    </tr>\n",
       "  </thead>\n",
       "  <tbody>\n",
       "    <tr>\n",
       "      <th>0</th>\n",
       "      <td>467361</td>\n",
       "      <td>1</td>\n",
       "    </tr>\n",
       "    <tr>\n",
       "      <th>1</th>\n",
       "      <td>468800</td>\n",
       "      <td>1</td>\n",
       "    </tr>\n",
       "    <tr>\n",
       "      <th>2</th>\n",
       "      <td>469481</td>\n",
       "      <td>1</td>\n",
       "    </tr>\n",
       "    <tr>\n",
       "      <th>3</th>\n",
       "      <td>469680</td>\n",
       "      <td>1</td>\n",
       "    </tr>\n",
       "    <tr>\n",
       "      <th>4</th>\n",
       "      <td>470250</td>\n",
       "      <td>1</td>\n",
       "    </tr>\n",
       "  </tbody>\n",
       "</table>\n",
       "</div>"
      ],
      "text/plain": [
       "   ID_Customer  ID_Order\n",
       "0       467361         1\n",
       "1       468800         1\n",
       "2       469481         1\n",
       "3       469680         1\n",
       "4       470250         1"
      ]
     },
     "execution_count": 63,
     "metadata": {},
     "output_type": "execute_result"
    }
   ],
   "source": [
    "Frequency = data.groupby('ID_Customer')['ID_Order'].count()\n",
    "Frequency = Frequency.reset_index()\n",
    "Frequency.head()"
   ]
  },
  {
   "cell_type": "code",
   "execution_count": 64,
   "id": "a5f74990",
   "metadata": {},
   "outputs": [
    {
     "data": {
      "text/html": [
       "<div>\n",
       "<style scoped>\n",
       "    .dataframe tbody tr th:only-of-type {\n",
       "        vertical-align: middle;\n",
       "    }\n",
       "\n",
       "    .dataframe tbody tr th {\n",
       "        vertical-align: top;\n",
       "    }\n",
       "\n",
       "    .dataframe thead th {\n",
       "        text-align: right;\n",
       "    }\n",
       "</style>\n",
       "<table border=\"1\" class=\"dataframe\">\n",
       "  <thead>\n",
       "    <tr style=\"text-align: right;\">\n",
       "      <th></th>\n",
       "      <th>ID_Customer</th>\n",
       "      <th>DayTime_CartFinalize</th>\n",
       "      <th>ID_Order</th>\n",
       "    </tr>\n",
       "  </thead>\n",
       "  <tbody>\n",
       "    <tr>\n",
       "      <th>0</th>\n",
       "      <td>467361</td>\n",
       "      <td>6</td>\n",
       "      <td>1</td>\n",
       "    </tr>\n",
       "    <tr>\n",
       "      <th>1</th>\n",
       "      <td>468800</td>\n",
       "      <td>48</td>\n",
       "      <td>1</td>\n",
       "    </tr>\n",
       "    <tr>\n",
       "      <th>2</th>\n",
       "      <td>469481</td>\n",
       "      <td>6</td>\n",
       "      <td>1</td>\n",
       "    </tr>\n",
       "    <tr>\n",
       "      <th>3</th>\n",
       "      <td>469680</td>\n",
       "      <td>67</td>\n",
       "      <td>1</td>\n",
       "    </tr>\n",
       "    <tr>\n",
       "      <th>4</th>\n",
       "      <td>470250</td>\n",
       "      <td>92</td>\n",
       "      <td>1</td>\n",
       "    </tr>\n",
       "  </tbody>\n",
       "</table>\n",
       "</div>"
      ],
      "text/plain": [
       "   ID_Customer  DayTime_CartFinalize  ID_Order\n",
       "0       467361                     6         1\n",
       "1       468800                    48         1\n",
       "2       469481                     6         1\n",
       "3       469680                    67         1\n",
       "4       470250                    92         1"
      ]
     },
     "execution_count": 64,
     "metadata": {},
     "output_type": "execute_result"
    }
   ],
   "source": [
    "RFM1 = pd.merge(Recency, Frequency, on='ID_Customer', how = 'inner' )\n",
    "RFM1.head()"
   ]
  },
  {
   "cell_type": "code",
   "execution_count": 65,
   "id": "bda7fdc9",
   "metadata": {},
   "outputs": [
    {
     "data": {
      "text/html": [
       "<div>\n",
       "<style scoped>\n",
       "    .dataframe tbody tr th:only-of-type {\n",
       "        vertical-align: middle;\n",
       "    }\n",
       "\n",
       "    .dataframe tbody tr th {\n",
       "        vertical-align: top;\n",
       "    }\n",
       "\n",
       "    .dataframe thead th {\n",
       "        text-align: right;\n",
       "    }\n",
       "</style>\n",
       "<table border=\"1\" class=\"dataframe\">\n",
       "  <thead>\n",
       "    <tr style=\"text-align: right;\">\n",
       "      <th></th>\n",
       "      <th>ID_Customer</th>\n",
       "      <th>Amount_Gross_Order</th>\n",
       "    </tr>\n",
       "  </thead>\n",
       "  <tbody>\n",
       "    <tr>\n",
       "      <th>0</th>\n",
       "      <td>467361</td>\n",
       "      <td>472264.0</td>\n",
       "    </tr>\n",
       "    <tr>\n",
       "      <th>1</th>\n",
       "      <td>468800</td>\n",
       "      <td>4332453.0</td>\n",
       "    </tr>\n",
       "    <tr>\n",
       "      <th>2</th>\n",
       "      <td>469481</td>\n",
       "      <td>1359623.0</td>\n",
       "    </tr>\n",
       "    <tr>\n",
       "      <th>3</th>\n",
       "      <td>469680</td>\n",
       "      <td>33015094.0</td>\n",
       "    </tr>\n",
       "    <tr>\n",
       "      <th>4</th>\n",
       "      <td>470250</td>\n",
       "      <td>926226.0</td>\n",
       "    </tr>\n",
       "  </tbody>\n",
       "</table>\n",
       "</div>"
      ],
      "text/plain": [
       "   ID_Customer  Amount_Gross_Order\n",
       "0       467361            472264.0\n",
       "1       468800           4332453.0\n",
       "2       469481           1359623.0\n",
       "3       469680          33015094.0\n",
       "4       470250            926226.0"
      ]
     },
     "execution_count": 65,
     "metadata": {},
     "output_type": "execute_result"
    }
   ],
   "source": [
    "Monetary = data.groupby('ID_Customer')['Amount_Gross_Order'].sum()\n",
    "Monetary = Monetary.reset_index()\n",
    "Monetary.head()"
   ]
  },
  {
   "cell_type": "code",
   "execution_count": 66,
   "id": "f83d595d",
   "metadata": {},
   "outputs": [
    {
     "data": {
      "text/html": [
       "<div>\n",
       "<style scoped>\n",
       "    .dataframe tbody tr th:only-of-type {\n",
       "        vertical-align: middle;\n",
       "    }\n",
       "\n",
       "    .dataframe tbody tr th {\n",
       "        vertical-align: top;\n",
       "    }\n",
       "\n",
       "    .dataframe thead th {\n",
       "        text-align: right;\n",
       "    }\n",
       "</style>\n",
       "<table border=\"1\" class=\"dataframe\">\n",
       "  <thead>\n",
       "    <tr style=\"text-align: right;\">\n",
       "      <th></th>\n",
       "      <th>ID_Customer</th>\n",
       "      <th>DayTime_CartFinalize</th>\n",
       "      <th>ID_Order</th>\n",
       "      <th>Amount_Gross_Order</th>\n",
       "    </tr>\n",
       "  </thead>\n",
       "  <tbody>\n",
       "    <tr>\n",
       "      <th>0</th>\n",
       "      <td>467361</td>\n",
       "      <td>6</td>\n",
       "      <td>1</td>\n",
       "      <td>472264.0</td>\n",
       "    </tr>\n",
       "    <tr>\n",
       "      <th>1</th>\n",
       "      <td>468800</td>\n",
       "      <td>48</td>\n",
       "      <td>1</td>\n",
       "      <td>4332453.0</td>\n",
       "    </tr>\n",
       "    <tr>\n",
       "      <th>2</th>\n",
       "      <td>469481</td>\n",
       "      <td>6</td>\n",
       "      <td>1</td>\n",
       "      <td>1359623.0</td>\n",
       "    </tr>\n",
       "    <tr>\n",
       "      <th>3</th>\n",
       "      <td>469680</td>\n",
       "      <td>67</td>\n",
       "      <td>1</td>\n",
       "      <td>33015094.0</td>\n",
       "    </tr>\n",
       "    <tr>\n",
       "      <th>4</th>\n",
       "      <td>470250</td>\n",
       "      <td>92</td>\n",
       "      <td>1</td>\n",
       "      <td>926226.0</td>\n",
       "    </tr>\n",
       "  </tbody>\n",
       "</table>\n",
       "</div>"
      ],
      "text/plain": [
       "   ID_Customer  DayTime_CartFinalize  ID_Order  Amount_Gross_Order\n",
       "0       467361                     6         1            472264.0\n",
       "1       468800                    48         1           4332453.0\n",
       "2       469481                     6         1           1359623.0\n",
       "3       469680                    67         1          33015094.0\n",
       "4       470250                    92         1            926226.0"
      ]
     },
     "execution_count": 66,
     "metadata": {},
     "output_type": "execute_result"
    }
   ],
   "source": [
    "RFM = pd.merge(RFM1, Monetary, on='ID_Customer', how = 'inner' )\n",
    "RFM.head()"
   ]
  },
  {
   "cell_type": "code",
   "execution_count": 67,
   "id": "b67fcbc0",
   "metadata": {},
   "outputs": [
    {
     "data": {
      "text/html": [
       "<div>\n",
       "<style scoped>\n",
       "    .dataframe tbody tr th:only-of-type {\n",
       "        vertical-align: middle;\n",
       "    }\n",
       "\n",
       "    .dataframe tbody tr th {\n",
       "        vertical-align: top;\n",
       "    }\n",
       "\n",
       "    .dataframe thead th {\n",
       "        text-align: right;\n",
       "    }\n",
       "</style>\n",
       "<table border=\"1\" class=\"dataframe\">\n",
       "  <thead>\n",
       "    <tr style=\"text-align: right;\">\n",
       "      <th></th>\n",
       "      <th>ID_Customer</th>\n",
       "      <th>Recency</th>\n",
       "      <th>Frequency</th>\n",
       "      <th>Monetary</th>\n",
       "    </tr>\n",
       "  </thead>\n",
       "  <tbody>\n",
       "    <tr>\n",
       "      <th>0</th>\n",
       "      <td>467361</td>\n",
       "      <td>6</td>\n",
       "      <td>1</td>\n",
       "      <td>472264.0</td>\n",
       "    </tr>\n",
       "    <tr>\n",
       "      <th>1</th>\n",
       "      <td>468800</td>\n",
       "      <td>48</td>\n",
       "      <td>1</td>\n",
       "      <td>4332453.0</td>\n",
       "    </tr>\n",
       "    <tr>\n",
       "      <th>2</th>\n",
       "      <td>469481</td>\n",
       "      <td>6</td>\n",
       "      <td>1</td>\n",
       "      <td>1359623.0</td>\n",
       "    </tr>\n",
       "    <tr>\n",
       "      <th>3</th>\n",
       "      <td>469680</td>\n",
       "      <td>67</td>\n",
       "      <td>1</td>\n",
       "      <td>33015094.0</td>\n",
       "    </tr>\n",
       "    <tr>\n",
       "      <th>4</th>\n",
       "      <td>470250</td>\n",
       "      <td>92</td>\n",
       "      <td>1</td>\n",
       "      <td>926226.0</td>\n",
       "    </tr>\n",
       "  </tbody>\n",
       "</table>\n",
       "</div>"
      ],
      "text/plain": [
       "   ID_Customer  Recency  Frequency    Monetary\n",
       "0       467361        6          1    472264.0\n",
       "1       468800       48          1   4332453.0\n",
       "2       469481        6          1   1359623.0\n",
       "3       469680       67          1  33015094.0\n",
       "4       470250       92          1    926226.0"
      ]
     },
     "execution_count": 67,
     "metadata": {},
     "output_type": "execute_result"
    }
   ],
   "source": [
    "RFM.columns = ['ID_Customer','Recency', 'Frequency', 'Monetary']\n",
    "RFM.head()"
   ]
  },
  {
   "cell_type": "code",
   "execution_count": 68,
   "id": "8e5a0f4c",
   "metadata": {},
   "outputs": [],
   "source": [
    "rfm_df = RFM[['Recency', 'Frequency', 'Monetary']]"
   ]
  },
  {
   "cell_type": "code",
   "execution_count": 71,
   "id": "6aa90b8c",
   "metadata": {},
   "outputs": [],
   "source": [
    "from sklearn.preprocessing import MinMaxScaler\n",
    "scaler = MinMaxScaler(feature_range = (1,10))\n",
    "rfm_N = scaler.fit_transform(rfm_df)"
   ]
  },
  {
   "cell_type": "code",
   "execution_count": 72,
   "id": "a3fe7a64",
   "metadata": {},
   "outputs": [
    {
     "data": {
      "text/plain": [
       "array([[ 1.58064516,  1.        ,  1.11604753],\n",
       "       [ 5.64516129,  1.        ,  2.16985064],\n",
       "       [ 1.58064516,  1.        ,  1.35828999],\n",
       "       [ 7.48387097,  1.        , 10.        ],\n",
       "       [ 9.90322581,  1.        ,  1.2399758 ],\n",
       "       [ 6.41935484,  1.        ,  4.56559267],\n",
       "       [ 1.        ,  1.        ,  3.5605676 ],\n",
       "       [ 8.93548387,  1.        ,  2.30181418],\n",
       "       [ 5.06451613,  1.        ,  1.29632585],\n",
       "       [ 1.96774194,  1.        ,  1.23724588],\n",
       "       [ 3.32258065, 10.        ,  2.86963883],\n",
       "       [ 4.38709677,  1.        ,  4.97812055],\n",
       "       [ 5.64516129,  1.        ,  1.18429568],\n",
       "       [ 2.4516129 ,  1.        ,  2.31360965],\n",
       "       [ 4.77419355,  1.        ,  2.96822521],\n",
       "       [ 1.09677419,  1.        ,  1.1290791 ],\n",
       "       [ 6.80645161,  1.        ,  1.86698334],\n",
       "       [ 2.16129032,  1.        ,  2.52103244],\n",
       "       [ 1.48387097,  1.        ,  1.10703358],\n",
       "       [ 6.03225806,  1.        ,  3.25615516],\n",
       "       [ 8.25806452,  1.        ,  5.62367084],\n",
       "       [ 1.        ,  1.        ,  1.01988205],\n",
       "       [ 3.70967742,  1.        ,  1.29678939],\n",
       "       [ 2.83870968,  1.        ,  1.01045616],\n",
       "       [ 1.96774194,  1.        ,  2.32756831],\n",
       "       [ 5.16129032,  1.        ,  1.04378174],\n",
       "       [ 5.06451613,  1.        ,  1.05295019],\n",
       "       [ 9.22580645,  1.        ,  1.20860758],\n",
       "       [ 3.80645161,  1.        ,  1.08787278],\n",
       "       [ 6.41935484,  1.        ,  3.90428087],\n",
       "       [ 2.25806452,  1.        ,  1.06356087],\n",
       "       [ 8.35483871,  1.        ,  3.26697195],\n",
       "       [ 3.32258065,  1.        ,  2.02088921],\n",
       "       [ 1.87096774,  1.        ,  1.01802789],\n",
       "       [ 5.4516129 ,  1.        ,  1.26861437],\n",
       "       [ 2.06451613,  1.        ,  1.29648036],\n",
       "       [ 8.4516129 ,  1.        ,  4.00394884],\n",
       "       [ 8.5483871 ,  1.        ,  1.70627832],\n",
       "       [ 5.5483871 ,  1.        ,  2.45252686],\n",
       "       [ 8.74193548,  1.        ,  5.36504883],\n",
       "       [ 3.61290323,  1.        ,  3.74084592],\n",
       "       [ 2.06451613,  1.        ,  3.56242204],\n",
       "       [ 4.38709677,  1.        ,  1.25784917],\n",
       "       [ 4.77419355,  1.        ,  1.18043256],\n",
       "       [ 7.87096774,  1.        ,  1.16255946],\n",
       "       [ 1.96774194,  1.        ,  1.18043256],\n",
       "       [ 9.70967742,  1.        ,  3.56242204],\n",
       "       [ 3.70967742,  1.        ,  6.00843593],\n",
       "       [ 2.93548387,  1.        ,  1.67022255],\n",
       "       [ 8.4516129 ,  1.        ,  1.27366227],\n",
       "       [ 7.58064516,  1.        ,  2.53056152],\n",
       "       [ 8.25806452,  1.        ,  1.00772624],\n",
       "       [ 5.4516129 ,  1.        ,  1.10816677],\n",
       "       [ 2.83870968,  1.        ,  4.91522933],\n",
       "       [ 2.16129032,  1.        ,  1.18862234],\n",
       "       [ 4.48387097,  1.        ,  1.07741661],\n",
       "       [ 6.80645161,  1.        ,  1.95094141],\n",
       "       [ 2.93548387,  1.        ,  1.12150738],\n",
       "       [ 4.        ,  1.        ,  1.03476779],\n",
       "       [ 4.58064516,  1.        ,  1.67053157],\n",
       "       [ 3.22580645,  1.        ,  1.2423967 ],\n",
       "       [ 3.03225806,  1.        ,  1.05954324],\n",
       "       [ 4.        ,  1.        ,  1.07999202],\n",
       "       [ 3.70967742,  1.        ,  2.93155165],\n",
       "       [ 8.83870968,  1.        ,  6.72970291],\n",
       "       [ 3.70967742,  1.        ,  1.29632585],\n",
       "       [ 1.77419355,  1.        ,  1.04409077],\n",
       "       [ 8.74193548,  1.        ,  1.92050027],\n",
       "       [ 7.19354839,  1.        ,  1.1290791 ],\n",
       "       [ 8.83870968,  1.        ,  8.22966878],\n",
       "       [ 6.70967742,  1.        ,  1.46357232],\n",
       "       [ 7.09677419,  1.        ,  1.37147607],\n",
       "       [ 1.48387097,  1.        ,  1.66960449],\n",
       "       [ 1.77419355,  1.        ,  1.52857541],\n",
       "       [ 7.87096774,  1.        ,  1.21921826],\n",
       "       [ 3.41935484,  1.        ,  3.47300412],\n",
       "       [ 4.        ,  1.        ,  1.12923362],\n",
       "       [ 4.77419355,  1.        ,  1.07983751],\n",
       "       [ 6.32258065,  1.        ,  1.04264855],\n",
       "       [ 8.25806452,  1.        ,  3.30704508],\n",
       "       [ 1.        ,  1.        ,  1.17816618],\n",
       "       [ 6.22580645,  1.        ,  2.58222401],\n",
       "       [ 4.77419355,  1.        ,  1.20088135],\n",
       "       [ 3.03225806,  1.        ,  1.28499392],\n",
       "       [ 2.74193548, 10.        ,  3.73693121],\n",
       "       [ 6.61290323,  1.        ,  3.33552913],\n",
       "       [ 8.35483871,  1.        ,  1.03863091],\n",
       "       [ 7.87096774,  1.        ,  1.21427327],\n",
       "       [ 4.96774194,  1.        ,  1.29632585],\n",
       "       [ 3.22580645,  1.        ,  2.66628499],\n",
       "       [ 4.19354839,  1.        ,  1.68454183],\n",
       "       [ 1.48387097,  1.        ,  1.00772624],\n",
       "       [ 2.25806452,  1.        ,  7.50289035],\n",
       "       [ 5.74193548,  1.        ,  4.07657525],\n",
       "       [ 1.        ,  1.        ,  2.96760715],\n",
       "       [ 1.96774194,  1.        ,  3.04486925],\n",
       "       [ 1.48387097,  1.        ,  1.04172146],\n",
       "       [ 6.41935484,  1.        ,  1.07211127],\n",
       "       [ 4.58064516,  1.        ,  3.98808442],\n",
       "       [ 9.03225806,  1.        ,  1.59326948],\n",
       "       [ 4.96774194,  1.        ,  3.27253472],\n",
       "       [ 1.38709677,  1.        ,  1.62917074],\n",
       "       [ 6.41935484,  1.        ,  1.20665023],\n",
       "       [ 4.09677419,  1.        ,  1.08256744],\n",
       "       [ 2.06451613,  1.        ,  1.76025852],\n",
       "       [ 1.58064516,  1.        ,  6.66263954],\n",
       "       [10.        ,  1.        ,  1.20891661],\n",
       "       [ 5.25806452,  1.        ,  1.29941612],\n",
       "       [ 1.09677419,  1.        ,  3.29349864],\n",
       "       [ 3.03225806,  1.        ,  2.65109022],\n",
       "       [ 7.48387097,  1.        ,  1.29941612],\n",
       "       [ 5.06451613,  1.        ,  1.39707541],\n",
       "       [ 9.61290323,  1.        ,  3.38585232],\n",
       "       [ 5.64516129,  1.        ,  1.08771826],\n",
       "       [ 6.51612903,  1.        ,  1.05954324],\n",
       "       [ 6.80645161,  1.        ,  6.80650146],\n",
       "       [ 1.        ,  1.        ,  1.06356087],\n",
       "       [ 6.90322581,  1.        ,  4.20565435],\n",
       "       [ 4.87096774,  1.        ,  1.05938873],\n",
       "       [ 4.77419355,  1.        ,  1.31981331],\n",
       "       [ 6.22580645,  1.        ,  1.09879248],\n",
       "       [ 1.38709677,  1.        ,  1.02317844],\n",
       "       [ 7.48387097,  1.        ,  1.02575385],\n",
       "       [ 7.09677419,  1.        ,  2.19560449],\n",
       "       [ 6.41935484,  1.        ,  1.01115148],\n",
       "       [ 9.12903226,  1.        ,  7.11694048],\n",
       "       [ 2.93548387,  1.        ,  3.07381684],\n",
       "       [ 5.4516129 ,  1.        ,  1.7577863 ],\n",
       "       [ 2.35483871,  1.        ,  5.29319526],\n",
       "       [ 4.77419355,  1.        ,  1.65415202],\n",
       "       [ 3.61290323,  1.        ,  5.56938135],\n",
       "       [ 4.29032258,  1.        ,  2.52978868],\n",
       "       [ 2.83870968,  1.        ,  1.01030138],\n",
       "       [ 6.32258065,  1.        ,  1.00772624],\n",
       "       [ 2.74193548,  1.        ,  1.06211865],\n",
       "       [ 6.70967742,  1.        ,  1.04635715],\n",
       "       [ 6.70967742,  1.        ,  1.74763916],\n",
       "       [ 8.83870968,  1.        ,  1.63643343],\n",
       "       [ 1.96774194,  1.        ,  1.7866307 ],\n",
       "       [ 3.61290323,  1.        ,  1.08514285],\n",
       "       [ 1.87096774,  1.        ,  2.04077154],\n",
       "       [ 3.32258065,  1.        ,  1.13165451],\n",
       "       [ 4.96774194,  1.        ,  1.02848378],\n",
       "       [ 4.29032258,  1.        ,  2.90579753],\n",
       "       [ 8.35483871,  1.        ,  1.03621001],\n",
       "       [ 3.32258065,  1.        ,  2.58129693],\n",
       "       [ 7.48387097,  1.        ,  1.6805242 ],\n",
       "       [ 1.29032258,  1.        ,  1.04172146],\n",
       "       [ 8.4516129 ,  1.        ,  1.27366227],\n",
       "       [ 4.09677419,  1.        ,  2.58253304],\n",
       "       [ 2.64516129,  1.        ,  3.56767578],\n",
       "       [ 8.4516129 ,  1.        ,  2.2222857 ],\n",
       "       [ 4.19354839,  1.        ,  1.23224984],\n",
       "       [ 4.48387097,  1.        ,  1.04120633],\n",
       "       [ 8.83870968,  1.        ,  1.27088075],\n",
       "       [ 1.48387097,  1.        ,  8.06999376],\n",
       "       [ 5.83870968,  1.        ,  1.03080176],\n",
       "       [ 7.77419355,  1.        ,  2.01996213],\n",
       "       [ 6.70967742,  1.        ,  1.57719895],\n",
       "       [ 7.38709677,  1.        ,  1.        ],\n",
       "       [ 6.90322581,  1.        ,  2.39133501],\n",
       "       [ 6.41935484,  1.        ,  1.04136084],\n",
       "       [ 2.25806452,  1.        ,  3.1227494 ],\n",
       "       [ 1.48387097, 10.        ,  1.63602121],\n",
       "       [ 5.16129032,  1.        ,  1.08771799],\n",
       "       [ 7.96774194,  1.        ,  1.08658507],\n",
       "       [ 2.16129032,  1.        ,  1.67362212],\n",
       "       [ 1.09677419,  1.        ,  1.52950249],\n",
       "       [ 3.51612903,  1.        ,  1.23224984],\n",
       "       [ 1.19354839,  1.        ,  1.67161317],\n",
       "       [ 8.06451613,  1.        ,  2.0159445 ],\n",
       "       [ 8.4516129 ,  1.        ,  1.11347211],\n",
       "       [ 6.80645161,  1.        ,  1.09544423],\n",
       "       [ 7.77419355,  1.        ,  2.15712809],\n",
       "       [ 9.03225806,  1.        ,  1.00772624],\n",
       "       [ 1.29032258,  1.        ,  1.2678418 ],\n",
       "       [ 3.80645161,  1.        ,  1.0360555 ],\n",
       "       [ 9.22580645,  1.        ,  2.91609918],\n",
       "       [ 2.4516129 ,  1.        ,  2.96822521],\n",
       "       [ 9.90322581,  1.        ,  3.3796715 ],\n",
       "       [ 7.48387097,  1.        ,  1.67022255],\n",
       "       [ 4.77419355,  1.        ,  3.31168077],\n",
       "       [ 3.51612903,  1.        ,  3.18136556],\n",
       "       [ 2.5483871 ,  1.        ,  1.07741661],\n",
       "       [ 8.4516129 ,  1.        ,  1.11589301],\n",
       "       [ 2.93548387,  1.        ,  2.58129693],\n",
       "       [ 4.38709677,  1.        ,  1.01988205],\n",
       "       [ 6.70967742,  1.        ,  1.73203217],\n",
       "       [ 4.09677419,  1.        ,  1.13278743],\n",
       "       [ 5.06451613,  1.        ,  1.01988205],\n",
       "       [ 9.12903226,  1.        ,  1.18027805],\n",
       "       [ 6.03225806,  1.        ,  1.49267442],\n",
       "       [ 6.22580645,  1.        ,  1.11347211],\n",
       "       [ 7.48387097,  1.        ,  8.43003499],\n",
       "       [ 4.19354839,  1.        ,  3.68933795],\n",
       "       [ 1.77419355,  1.        ,  1.09286881],\n",
       "       [ 7.        ,  1.        ,  1.59007601],\n",
       "       [ 9.90322581,  1.        ,  1.87563666],\n",
       "       [ 3.41935484,  1.        ,  1.12104384],\n",
       "       [ 1.09677419, 10.        ,  1.66733811],\n",
       "       [ 9.32258065,  1.        ,  7.16551242],\n",
       "       [ 9.32258065,  1.        ,  4.90173421],\n",
       "       [ 7.        ,  1.        ,  1.02575385],\n",
       "       [ 4.        ,  1.        ,  1.96320041],\n",
       "       [ 2.64516129,  1.        ,  1.23224984],\n",
       "       [ 9.32258065,  1.        ,  1.66960449],\n",
       "       [ 7.67741935,  1.        ,  1.67990614],\n",
       "       [ 6.12903226,  1.        ,  1.0154522 ],\n",
       "       [ 8.83870968,  1.        ,  1.07994043],\n",
       "       [ 8.83870968,  1.        ,  1.60264404],\n",
       "       [ 8.83870968,  1.        ,  1.10301595],\n",
       "       [ 8.83870968,  1.        ,  5.41423909],\n",
       "       [ 5.25806452,  1.        ,  1.13036681],\n",
       "       [ 8.06451613,  1.        ,  1.0206033 ],\n",
       "       [ 8.35483871,  1.        ,  1.72111247],\n",
       "       [ 8.25806452,  1.        ,  1.70565999],\n",
       "       [ 1.38709677,  1.        ,  1.2678418 ],\n",
       "       [ 1.67741935,  1.        ,  1.29617106],\n",
       "       [ 1.        ,  1.        ,  1.09786512],\n",
       "       [ 4.48387097, 10.        ,  1.64220231],\n",
       "       [ 2.74193548,  1.        ,  1.2256052 ],\n",
       "       [ 1.38709677,  1.        ,  1.60521946],\n",
       "       [ 4.        ,  1.        ,  9.22583415],\n",
       "       [ 7.38709677,  1.        ,  1.05408339],\n",
       "       [ 6.51612903,  1.        ,  1.23724588],\n",
       "       [ 7.09677419,  1.        ,  3.81748996],\n",
       "       [ 6.51612903,  1.        ,  4.9764209 ],\n",
       "       [ 6.32258065,  1.        ,  1.95032335],\n",
       "       [ 3.32258065,  1.        ,  1.23982129],\n",
       "       [ 4.48387097,  1.        ,  1.        ],\n",
       "       [ 6.03225806,  1.        ,  1.01802789],\n",
       "       [ 6.03225806,  1.        ,  1.18027805],\n",
       "       [ 6.03225806,  1.        ,  2.7873291 ],\n",
       "       [ 5.93548387,  1.        ,  3.45693359],\n",
       "       [ 4.96774194,  1.        ,  5.87781141],\n",
       "       [ 2.25806452,  1.        ,  2.25267551],\n",
       "       [ 3.03225806,  1.        ,  1.19330962],\n",
       "       [ 5.4516129 ,  1.        ,  2.60962619],\n",
       "       [ 2.25806452,  1.        ,  1.1545242 ],\n",
       "       [ 4.19354839,  1.        ,  2.90579753],\n",
       "       [ 5.16129032,  1.        ,  1.60521946],\n",
       "       [ 5.06451613,  1.        ,  1.05150797],\n",
       "       [ 3.41935484,  1.        ,  1.01931532],\n",
       "       [ 3.32258065,  1.        ,  1.17512722],\n",
       "       [ 3.41935484,  1.        ,  1.30096153],\n",
       "       [ 4.38709677,  1.        ,  4.28106228],\n",
       "       [ 4.38709677,  1.        ,  1.08627604],\n",
       "       [ 4.29032258,  1.        ,  7.93813314],\n",
       "       [ 4.29032258,  1.        ,  1.47644938],\n",
       "       [ 4.19354839,  1.        ,  1.60006863],\n",
       "       [ 4.        ,  1.        ,  5.74904134],\n",
       "       [ 1.09677419,  1.        ,  1.49962782],\n",
       "       [ 3.03225806,  1.        ,  2.65109022],\n",
       "       [ 2.83870968,  1.        ,  1.2423967 ],\n",
       "       [ 3.61290323,  1.        ,  1.08756375],\n",
       "       [ 2.93548387,  1.        ,  1.10044054],\n",
       "       [ 3.41935484,  1.        ,  1.30096153],\n",
       "       [ 3.32258065,  1.        ,  2.41044477],\n",
       "       [ 3.22580645,  1.        ,  1.09528971],\n",
       "       [ 3.12903226,  1.        ,  2.01470839],\n",
       "       [ 2.93548387,  1.        ,  1.06438504],\n",
       "       [ 2.93548387,  1.        ,  1.0566588 ],\n",
       "       [ 2.74193548,  1.        ,  1.42236599],\n",
       "       [ 2.35483871,  1.        ,  1.16740099],\n",
       "       [ 2.25806452,  1.        ,  5.8886282 ],\n",
       "       [ 2.25806452,  1.        ,  1.01988205],\n",
       "       [ 2.25806452,  1.        ,  1.67990614],\n",
       "       [ 1.38709677,  1.        ,  3.38224691],\n",
       "       [ 2.06451613,  1.        ,  1.59234239],\n",
       "       [ 1.67741935,  1.        ,  1.05150797],\n",
       "       [ 1.09677419,  1.        ,  2.58129693]])"
      ]
     },
     "execution_count": 72,
     "metadata": {},
     "output_type": "execute_result"
    }
   ],
   "source": [
    "rfm_N"
   ]
  },
  {
   "cell_type": "code",
   "execution_count": 73,
   "id": "d3a0e287",
   "metadata": {},
   "outputs": [
    {
     "data": {
      "text/html": [
       "<div>\n",
       "<style scoped>\n",
       "    .dataframe tbody tr th:only-of-type {\n",
       "        vertical-align: middle;\n",
       "    }\n",
       "\n",
       "    .dataframe tbody tr th {\n",
       "        vertical-align: top;\n",
       "    }\n",
       "\n",
       "    .dataframe thead th {\n",
       "        text-align: right;\n",
       "    }\n",
       "</style>\n",
       "<table border=\"1\" class=\"dataframe\">\n",
       "  <thead>\n",
       "    <tr style=\"text-align: right;\">\n",
       "      <th></th>\n",
       "      <th>Recency</th>\n",
       "      <th>Frequency</th>\n",
       "      <th>Monetary</th>\n",
       "    </tr>\n",
       "  </thead>\n",
       "  <tbody>\n",
       "    <tr>\n",
       "      <th>0</th>\n",
       "      <td>1.580645</td>\n",
       "      <td>1.0</td>\n",
       "      <td>1.116048</td>\n",
       "    </tr>\n",
       "    <tr>\n",
       "      <th>1</th>\n",
       "      <td>5.645161</td>\n",
       "      <td>1.0</td>\n",
       "      <td>2.169851</td>\n",
       "    </tr>\n",
       "    <tr>\n",
       "      <th>2</th>\n",
       "      <td>1.580645</td>\n",
       "      <td>1.0</td>\n",
       "      <td>1.358290</td>\n",
       "    </tr>\n",
       "    <tr>\n",
       "      <th>3</th>\n",
       "      <td>7.483871</td>\n",
       "      <td>1.0</td>\n",
       "      <td>10.000000</td>\n",
       "    </tr>\n",
       "    <tr>\n",
       "      <th>4</th>\n",
       "      <td>9.903226</td>\n",
       "      <td>1.0</td>\n",
       "      <td>1.239976</td>\n",
       "    </tr>\n",
       "  </tbody>\n",
       "</table>\n",
       "</div>"
      ],
      "text/plain": [
       "    Recency  Frequency   Monetary\n",
       "0  1.580645        1.0   1.116048\n",
       "1  5.645161        1.0   2.169851\n",
       "2  1.580645        1.0   1.358290\n",
       "3  7.483871        1.0  10.000000\n",
       "4  9.903226        1.0   1.239976"
      ]
     },
     "execution_count": 73,
     "metadata": {},
     "output_type": "execute_result"
    }
   ],
   "source": [
    "rfm_df_scaled = pd.DataFrame(rfm_N)\n",
    "rfm_df_scaled.columns = ['Recency', 'Frequency', 'Monetary']\n",
    "rfm_df_scaled.head()"
   ]
  },
  {
   "cell_type": "code",
   "execution_count": 74,
   "id": "c4489bb7",
   "metadata": {},
   "outputs": [
    {
     "name": "stderr",
     "output_type": "stream",
     "text": [
      "C:\\Users\\AMIR\\anaconda3\\lib\\site-packages\\sklearn\\cluster\\_kmeans.py:881: UserWarning: KMeans is known to have a memory leak on Windows with MKL, when there are less chunks than available threads. You can avoid it by setting the environment variable OMP_NUM_THREADS=2.\n",
      "  warnings.warn(\n"
     ]
    },
    {
     "data": {
      "image/png": "[encoded data removed]",
      "text/plain": [
       "<Figure size 432x288 with 1 Axes>"
      ]
     },
     "metadata": {
      "needs_background": "light"
     },
     "output_type": "display_data"
    }
   ],
   "source": [
    "Sum_of_squared_distances = []\n",
    "K = range(1,11)\n",
    "for k in K:\n",
    "    km = KMeans(n_clusters=k)\n",
    "    km = km.fit(rfm_df_scaled)\n",
    "    Sum_of_squared_distances.append(km.inertia_)\n",
    "    \n",
    "plt.plot(K, Sum_of_squared_distances, 'bx-')\n",
    "plt.xlabel('k')\n",
    "plt.ylabel('Sum_of_squared_distances')\n",
    "plt.title('Elbow Method For Optimal k')\n",
    "plt.show()"
   ]
  },
  {
   "cell_type": "code",
   "execution_count": 75,
   "id": "f9817303",
   "metadata": {},
   "outputs": [
    {
     "data": {
      "text/plain": [
       "KMeans(n_clusters=4)"
      ]
     },
     "execution_count": 75,
     "metadata": {},
     "output_type": "execute_result"
    }
   ],
   "source": [
    "km = KMeans(n_clusters= 4 ,init='k-means++', max_iter=300 )\n",
    "km = km.fit(rfm_df_scaled)\n",
    "km"
   ]
  },
  {
   "cell_type": "code",
   "execution_count": 77,
   "id": "cb05b891",
   "metadata": {},
   "outputs": [
    {
     "data": {
      "text/plain": [
       "array([2, 1, 2, 0, 1, 0, 2, 1, 2, 2, 3, 0, 1, 2, 2, 2, 1, 2, 2, 1, 0, 2,\n",
       "       2, 2, 2, 2, 2, 1, 2, 1, 2, 1, 2, 2, 1, 2, 1, 1, 1, 0, 2, 2, 2, 2,\n",
       "       1, 2, 1, 0, 2, 1, 1, 1, 1, 0, 2, 2, 1, 2, 2, 2, 2, 2, 2, 2, 0, 2,\n",
       "       2, 1, 1, 0, 1, 1, 2, 2, 1, 2, 2, 2, 1, 1, 2, 1, 2, 2, 3, 1, 1, 1,\n",
       "       2, 2, 2, 2, 0, 0, 2, 2, 2, 1, 0, 1, 2, 2, 1, 2, 2, 0, 1, 2, 2, 2,\n",
       "       1, 2, 1, 1, 1, 0, 2, 1, 2, 2, 1, 2, 1, 1, 1, 0, 2, 1, 0, 2, 0, 2,\n",
       "       2, 1, 2, 1, 1, 1, 2, 2, 2, 2, 2, 2, 1, 2, 1, 2, 1, 2, 2, 1, 2, 2,\n",
       "       1, 0, 1, 1, 1, 1, 1, 1, 2, 3, 2, 1, 2, 2, 2, 2, 1, 1, 1, 1, 1, 2,\n",
       "       2, 1, 2, 1, 1, 2, 2, 2, 1, 2, 2, 1, 2, 2, 1, 1, 1, 0, 2, 2, 1, 1,\n",
       "       2, 3, 0, 1, 1, 2, 2, 1, 1, 1, 1, 1, 1, 0, 2, 1, 1, 1, 2, 2, 2, 3,\n",
       "       2, 2, 0, 1, 1, 1, 0, 1, 2, 2, 1, 1, 1, 1, 0, 2, 2, 1, 2, 2, 2, 2,\n",
       "       2, 2, 2, 0, 2, 0, 2, 2, 0, 2, 2, 2, 2, 2, 2, 2, 2, 2, 2, 2, 2, 2,\n",
       "       0, 2, 2, 2, 2, 2, 2])"
      ]
     },
     "execution_count": 77,
     "metadata": {},
     "output_type": "execute_result"
    }
   ],
   "source": [
    "km.labels_"
   ]
  },
  {
   "cell_type": "code",
   "execution_count": 78,
   "id": "b66afc04",
   "metadata": {},
   "outputs": [
    {
     "data": {
      "text/html": [
       "<div>\n",
       "<style scoped>\n",
       "    .dataframe tbody tr th:only-of-type {\n",
       "        vertical-align: middle;\n",
       "    }\n",
       "\n",
       "    .dataframe tbody tr th {\n",
       "        vertical-align: top;\n",
       "    }\n",
       "\n",
       "    .dataframe thead th {\n",
       "        text-align: right;\n",
       "    }\n",
       "</style>\n",
       "<table border=\"1\" class=\"dataframe\">\n",
       "  <thead>\n",
       "    <tr style=\"text-align: right;\">\n",
       "      <th></th>\n",
       "      <th>ID_Customer</th>\n",
       "      <th>Recency</th>\n",
       "      <th>Frequency</th>\n",
       "      <th>Monetary</th>\n",
       "      <th>Cluster_Id</th>\n",
       "    </tr>\n",
       "  </thead>\n",
       "  <tbody>\n",
       "    <tr>\n",
       "      <th>0</th>\n",
       "      <td>467361</td>\n",
       "      <td>6</td>\n",
       "      <td>1</td>\n",
       "      <td>472264.0</td>\n",
       "      <td>2</td>\n",
       "    </tr>\n",
       "    <tr>\n",
       "      <th>1</th>\n",
       "      <td>468800</td>\n",
       "      <td>48</td>\n",
       "      <td>1</td>\n",
       "      <td>4332453.0</td>\n",
       "      <td>1</td>\n",
       "    </tr>\n",
       "    <tr>\n",
       "      <th>2</th>\n",
       "      <td>469481</td>\n",
       "      <td>6</td>\n",
       "      <td>1</td>\n",
       "      <td>1359623.0</td>\n",
       "      <td>2</td>\n",
       "    </tr>\n",
       "    <tr>\n",
       "      <th>3</th>\n",
       "      <td>469680</td>\n",
       "      <td>67</td>\n",
       "      <td>1</td>\n",
       "      <td>33015094.0</td>\n",
       "      <td>0</td>\n",
       "    </tr>\n",
       "    <tr>\n",
       "      <th>4</th>\n",
       "      <td>470250</td>\n",
       "      <td>92</td>\n",
       "      <td>1</td>\n",
       "      <td>926226.0</td>\n",
       "      <td>1</td>\n",
       "    </tr>\n",
       "  </tbody>\n",
       "</table>\n",
       "</div>"
      ],
      "text/plain": [
       "   ID_Customer  Recency  Frequency    Monetary  Cluster_Id\n",
       "0       467361        6          1    472264.0           2\n",
       "1       468800       48          1   4332453.0           1\n",
       "2       469481        6          1   1359623.0           2\n",
       "3       469680       67          1  33015094.0           0\n",
       "4       470250       92          1    926226.0           1"
      ]
     },
     "execution_count": 78,
     "metadata": {},
     "output_type": "execute_result"
    }
   ],
   "source": [
    "RFM['Cluster_Id'] = km.labels_\n",
    "RFM.head()"
   ]
  },
  {
   "cell_type": "code",
   "execution_count": 79,
   "id": "78d4bc17",
   "metadata": {},
   "outputs": [
    {
     "data": {
      "text/plain": [
       "<AxesSubplot:xlabel='Cluster_Id', ylabel='Recency'>"
      ]
     },
     "execution_count": 79,
     "metadata": {},
     "output_type": "execute_result"
    },
    {
     "data": {
      "image/png": "[encoded data removed]",
      "text/plain": [
       "<Figure size 432x288 with 1 Axes>"
      ]
     },
     "metadata": {
      "needs_background": "light"
     },
     "output_type": "display_data"
    }
   ],
   "source": [
    "sns.boxplot(x='Cluster_Id', y='Recency', data=RFM)\n"
   ]
  },
  {
   "cell_type": "code",
   "execution_count": 80,
   "id": "540aecf8",
   "metadata": {},
   "outputs": [
    {
     "data": {
      "text/plain": [
       "<AxesSubplot:xlabel='Cluster_Id', ylabel='Frequency'>"
      ]
     },
     "execution_count": 80,
     "metadata": {},
     "output_type": "execute_result"
    },
    {
     "data": {
      "image/png": "[encoded data removed]",
      "text/plain": [
       "<Figure size 432x288 with 1 Axes>"
      ]
     },
     "metadata": {
      "needs_background": "light"
     },
     "output_type": "display_data"
    }
   ],
   "source": [
    "sns.boxplot(x='Cluster_Id', y='Frequency', data=RFM)\n"
   ]
  },
  {
   "cell_type": "code",
   "execution_count": 81,
   "id": "805c2361",
   "metadata": {},
   "outputs": [
    {
     "data": {
      "text/plain": [
       "<AxesSubplot:xlabel='Cluster_Id', ylabel='Monetary'>"
      ]
     },
     "execution_count": 81,
     "metadata": {},
     "output_type": "execute_result"
    },
    {
     "data": {
      "image/png": "[encoded data removed]",
      "text/plain": [
       "<Figure size 432x288 with 1 Axes>"
      ]
     },
     "metadata": {
      "needs_background": "light"
     },
     "output_type": "display_data"
    }
   ],
   "source": [
    "sns.boxplot(x='Cluster_Id', y='Monetary', data=RFM)\n"
   ]
  }
 ],
 "metadata": {
  "kernelspec": {
   "display_name": "Python 3 (ipykernel)",
   "language": "python",
   "name": "python3"
  },
  "language_info": {
   "codemirror_mode": {
    "name": "ipython",
    "version": 3
   },
   "file_extension": ".py",
   "mimetype": "text/x-python",
   "name": "python",
   "nbconvert_exporter": "python",
   "pygments_lexer": "ipython3",
   "version": "3.9.7"
  }
 },
 "nbformat": 4,
 "nbformat_minor": 5
}
